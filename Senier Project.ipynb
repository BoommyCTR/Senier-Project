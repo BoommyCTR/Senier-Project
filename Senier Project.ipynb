{
 "cells": [
  {
   "cell_type": "code",
   "execution_count": 13,
   "metadata": {},
   "outputs": [
    {
     "name": "stdout",
     "output_type": "stream",
     "text": [
      "561.61s - pydevd: Sending message related to process being replaced timed-out after 5 seconds\n",
      "Requirement already satisfied: ultralytics in /Library/Frameworks/Python.framework/Versions/3.11/lib/python3.11/site-packages (8.0.193)\n",
      "Requirement already satisfied: matplotlib>=3.3.0 in /Library/Frameworks/Python.framework/Versions/3.11/lib/python3.11/site-packages (from ultralytics) (3.7.1)\n",
      "Requirement already satisfied: numpy>=1.22.2 in /Library/Frameworks/Python.framework/Versions/3.11/lib/python3.11/site-packages (from ultralytics) (1.24.2)\n",
      "Requirement already satisfied: opencv-python>=4.6.0 in /Library/Frameworks/Python.framework/Versions/3.11/lib/python3.11/site-packages (from ultralytics) (4.7.0.72)\n",
      "Requirement already satisfied: pillow>=7.1.2 in /Library/Frameworks/Python.framework/Versions/3.11/lib/python3.11/site-packages (from ultralytics) (9.4.0)\n",
      "Requirement already satisfied: pyyaml>=5.3.1 in /Library/Frameworks/Python.framework/Versions/3.11/lib/python3.11/site-packages (from ultralytics) (6.0)\n",
      "Requirement already satisfied: requests>=2.23.0 in /Library/Frameworks/Python.framework/Versions/3.11/lib/python3.11/site-packages (from ultralytics) (2.28.2)\n",
      "Requirement already satisfied: scipy>=1.4.1 in /Library/Frameworks/Python.framework/Versions/3.11/lib/python3.11/site-packages (from ultralytics) (1.10.1)\n",
      "Requirement already satisfied: torch>=1.8.0 in /Library/Frameworks/Python.framework/Versions/3.11/lib/python3.11/site-packages (from ultralytics) (2.0.0)\n",
      "Requirement already satisfied: torchvision>=0.9.0 in /Library/Frameworks/Python.framework/Versions/3.11/lib/python3.11/site-packages (from ultralytics) (0.15.1)\n",
      "Requirement already satisfied: tqdm>=4.64.0 in /Library/Frameworks/Python.framework/Versions/3.11/lib/python3.11/site-packages (from ultralytics) (4.65.0)\n",
      "Requirement already satisfied: pandas>=1.1.4 in /Library/Frameworks/Python.framework/Versions/3.11/lib/python3.11/site-packages (from ultralytics) (1.5.3)\n",
      "Requirement already satisfied: seaborn>=0.11.0 in /Library/Frameworks/Python.framework/Versions/3.11/lib/python3.11/site-packages (from ultralytics) (0.12.2)\n",
      "Requirement already satisfied: psutil in /Users/boomctr/Library/Python/3.11/lib/python/site-packages (from ultralytics) (5.9.4)\n",
      "Requirement already satisfied: py-cpuinfo in /Library/Frameworks/Python.framework/Versions/3.11/lib/python3.11/site-packages (from ultralytics) (9.0.0)\n",
      "Requirement already satisfied: thop>=0.1.1 in /Library/Frameworks/Python.framework/Versions/3.11/lib/python3.11/site-packages (from ultralytics) (0.1.1.post2209072238)\n",
      "Requirement already satisfied: contourpy>=1.0.1 in /Library/Frameworks/Python.framework/Versions/3.11/lib/python3.11/site-packages (from matplotlib>=3.3.0->ultralytics) (1.0.7)\n",
      "Requirement already satisfied: cycler>=0.10 in /Library/Frameworks/Python.framework/Versions/3.11/lib/python3.11/site-packages (from matplotlib>=3.3.0->ultralytics) (0.11.0)\n",
      "Requirement already satisfied: fonttools>=4.22.0 in /Library/Frameworks/Python.framework/Versions/3.11/lib/python3.11/site-packages (from matplotlib>=3.3.0->ultralytics) (4.39.3)\n",
      "Requirement already satisfied: kiwisolver>=1.0.1 in /Library/Frameworks/Python.framework/Versions/3.11/lib/python3.11/site-packages (from matplotlib>=3.3.0->ultralytics) (1.4.4)\n",
      "Requirement already satisfied: packaging>=20.0 in /Users/boomctr/Library/Python/3.11/lib/python/site-packages (from matplotlib>=3.3.0->ultralytics) (23.0)\n",
      "Requirement already satisfied: pyparsing>=2.3.1 in /Library/Frameworks/Python.framework/Versions/3.11/lib/python3.11/site-packages (from matplotlib>=3.3.0->ultralytics) (3.0.9)\n",
      "Requirement already satisfied: python-dateutil>=2.7 in /Users/boomctr/Library/Python/3.11/lib/python/site-packages (from matplotlib>=3.3.0->ultralytics) (2.8.2)\n",
      "Requirement already satisfied: pytz>=2020.1 in /Library/Frameworks/Python.framework/Versions/3.11/lib/python3.11/site-packages (from pandas>=1.1.4->ultralytics) (2023.3)\n",
      "Requirement already satisfied: charset-normalizer<4,>=2 in /Library/Frameworks/Python.framework/Versions/3.11/lib/python3.11/site-packages (from requests>=2.23.0->ultralytics) (3.1.0)\n",
      "Requirement already satisfied: idna<4,>=2.5 in /Library/Frameworks/Python.framework/Versions/3.11/lib/python3.11/site-packages (from requests>=2.23.0->ultralytics) (3.4)\n",
      "Requirement already satisfied: urllib3<1.27,>=1.21.1 in /Library/Frameworks/Python.framework/Versions/3.11/lib/python3.11/site-packages (from requests>=2.23.0->ultralytics) (1.26.15)\n",
      "Requirement already satisfied: certifi>=2017.4.17 in /Library/Frameworks/Python.framework/Versions/3.11/lib/python3.11/site-packages (from requests>=2.23.0->ultralytics) (2022.12.7)\n",
      "Requirement already satisfied: filelock in /Library/Frameworks/Python.framework/Versions/3.11/lib/python3.11/site-packages (from torch>=1.8.0->ultralytics) (3.10.7)\n",
      "Requirement already satisfied: typing-extensions in /Library/Frameworks/Python.framework/Versions/3.11/lib/python3.11/site-packages (from torch>=1.8.0->ultralytics) (4.5.0)\n",
      "Requirement already satisfied: sympy in /Library/Frameworks/Python.framework/Versions/3.11/lib/python3.11/site-packages (from torch>=1.8.0->ultralytics) (1.11.1)\n",
      "Requirement already satisfied: networkx in /Library/Frameworks/Python.framework/Versions/3.11/lib/python3.11/site-packages (from torch>=1.8.0->ultralytics) (3.0)\n",
      "Requirement already satisfied: jinja2 in /Library/Frameworks/Python.framework/Versions/3.11/lib/python3.11/site-packages (from torch>=1.8.0->ultralytics) (3.1.2)\n",
      "Requirement already satisfied: six>=1.5 in /Users/boomctr/Library/Python/3.11/lib/python/site-packages (from python-dateutil>=2.7->matplotlib>=3.3.0->ultralytics) (1.16.0)\n",
      "Requirement already satisfied: MarkupSafe>=2.0 in /Library/Frameworks/Python.framework/Versions/3.11/lib/python3.11/site-packages (from jinja2->torch>=1.8.0->ultralytics) (2.1.2)\n",
      "Requirement already satisfied: mpmath>=0.19 in /Library/Frameworks/Python.framework/Versions/3.11/lib/python3.11/site-packages (from sympy->torch>=1.8.0->ultralytics) (1.3.0)\n"
     ]
    }
   ],
   "source": [
    "!pip3 install --upgrade ultralytics"
   ]
  },
  {
   "cell_type": "code",
   "execution_count": 10,
   "metadata": {},
   "outputs": [
    {
     "name": "stderr",
     "output_type": "stream",
     "text": [
      "Ultralytics YOLOv8.0.193 🚀 Python-3.11.1 torch-2.0.0 CPU (Apple M1)\n",
      "Setup complete ✅ (8 CPUs, 16.0 GB RAM, 223.1/926.4 GB disk)\n"
     ]
    }
   ],
   "source": [
    "import ultralytics\n",
    "ultralytics.checks()"
   ]
  },
  {
   "cell_type": "markdown",
   "metadata": {},
   "source": [
    "# Split images to 80:20"
   ]
  },
  {
   "cell_type": "code",
   "execution_count": 11,
   "metadata": {},
   "outputs": [],
   "source": [
    "import os\n",
    "import shutil\n",
    "import random\n",
    "\n",
    "# !pip install tqdm --upgrade\n",
    "from tqdm.notebook import tqdm"
   ]
  },
  {
   "cell_type": "code",
   "execution_count": null,
   "metadata": {},
   "outputs": [],
   "source": [
    "from google.colab import drive\n",
    "drive.mount('/content/drive')"
   ]
  },
  {
   "cell_type": "code",
   "execution_count": null,
   "metadata": {},
   "outputs": [],
   "source": [
    "train_path_img = \"./yolo_data/images/train/\"\n",
    "train_path_label = \"./yolo_data/labels/train/\"\n",
    "val_path_img = \"./yolo_data/images/val/\"\n",
    "val_path_label = \"./yolo_data/labels/val/\"\n",
    "test_path = \"./yolo_data/test\""
   ]
  },
  {
   "cell_type": "code",
   "execution_count": null,
   "metadata": {},
   "outputs": [],
   "source": [
    "def train_test_split(path,neg_path=None, split = 0.2):\n",
    "    print(\"------ PROCESS STARTED -------\")\n",
    "\n",
    "\n",
    "    files = list(set([name[:-4] for name in os.listdir(path)])) ## removing duplicate names i.e. counting only number of images\n",
    "    \n",
    "\n",
    "    print (f\"--- This folder has a total number of {len(files)} images---\")\n",
    "    random.seed(42)\n",
    "    random.shuffle(files)\n",
    "\n",
    "    test_size = int(len(files) * split)\n",
    "    train_size = len(files) - test_size\n",
    "\n",
    "    ## creating required directories\n",
    "\n",
    "    os.makedirs(train_path_img, exist_ok = True)\n",
    "    os.makedirs(train_path_label, exist_ok = True)\n",
    "    os.makedirs(val_path_img, exist_ok = True)\n",
    "    os.makedirs(val_path_label, exist_ok = True)\n",
    "\n",
    "    \n",
    "    ### ----------- copying images to train folder\n",
    "    for filex in tqdm(files[:train_size]):\n",
    "        if filex == 'classes':\n",
    "            continue\n",
    "        shutil.copy2(path + filex + '.jpg',f\"{train_path_img}/\" + filex + '.jpg' )\n",
    "        shutil.copy2(path + filex + '.txt', f\"{train_path_label}/\" + filex + '.txt')\n",
    "        \n",
    "    \n",
    "\n",
    "    print(f\"------ Training data created with 80% split {len(files[:train_size])} images -------\")\n",
    "    \n",
    "    if neg_path:\n",
    "        neg_images = list(set([name[:-4] for name in os.listdir(neg_path)])) ## removing duplicate names i.e. counting only number of images\n",
    "        for filex in tqdm(neg_images):\n",
    "            shutil.copy2(neg_path+filex+ \".jpg\", f\"{train_path_img}/\" + filex + '.jpg')\n",
    "            \n",
    "        print(f\"------ Total  {len(neg_images)} negative images added to the training data -------\")\n",
    "    \n",
    "        print(f\"------ TOTAL Training data created with {len(files[:train_size]) + len(neg_images)} images -------\")\n",
    "    \n",
    "\n",
    "\n",
    "    ### copytin images to validation folder\n",
    "    for filex in tqdm(files[train_size:]):\n",
    "        if filex == 'classes':\n",
    "            continue\n",
    "        # print(\"running\")\n",
    "        shutil.copy2(path + filex + '.jpg', f\"{val_path_img}/\" + filex + '.jpg' )\n",
    "        shutil.copy2(path + filex + '.txt', f\"{val_path_label}/\" + filex + '.txt')\n",
    "\n",
    "    print(f\"------ Testing data created with a total of {len(files[train_size:])} images ----------\")\n",
    "    \n",
    "    print(\"------ TASK COMPLETED -------\")\n",
    "\n",
    "## spliting the data into train-test and creating train.txt and test.txt files\n",
    "# train_test_split('/content/drive/MyDrive/custom_notebooks/yolo_data/')\n",
    "\n",
    "### for label_tag\n",
    "train_test_split('/content/drive/MyDrive/yolov8/data/') ### without negative images\n",
    "# train_test_split('./data/','./negative_images/') ### negative images"
   ]
  },
  {
   "cell_type": "markdown",
   "metadata": {},
   "source": [
    "# Train model"
   ]
  },
  {
   "cell_type": "code",
   "execution_count": null,
   "metadata": {},
   "outputs": [],
   "source": [
    "# from ultralytics import YOLO\n",
    "\n",
    "# # Load a model\n",
    "# model = YOLO(\"yolov8l.pt\")\n",
    "\n",
    "# # Train the model with 2 GPUs\n",
    "# results = model.train(data='data.yaml', epochs=400, batch=16, imgsz=640, device='mps', project=\"training_results\", name=\"pharmacy100b16\" )\n"
   ]
  },
  {
   "cell_type": "code",
   "execution_count": null,
   "metadata": {},
   "outputs": [],
   "source": [
    "def train_yolo():\n",
    "  !yolo task=detect mode=train model=yolov8l.pt data=data.yaml epochs=400 imgsz=640 batch=16 project=training_results name=pharmacy400b16 patience=0 device=mps\n",
    "\n",
    "## recommend to train in colab, is better\n",
    "# train_yolo()"
   ]
  },
  {
   "cell_type": "code",
   "execution_count": null,
   "metadata": {},
   "outputs": [],
   "source": [
    "# from ultralytics import YOLO\n",
    "\n",
    "# # Load a pretrained YOLOv8n model\n",
    "# model = YOLO('best.pt')\n",
    "\n",
    "# # Run inference on 'bus.jpg' with arguments\n",
    "# result = model.predict('test_images/IMG_1607.JPG', save=True, conf=0.6, line_width=2, save_txt=True)\n"
   ]
  },
  {
   "cell_type": "markdown",
   "metadata": {},
   "source": [
    "# Predict images"
   ]
  },
  {
   "cell_type": "code",
   "execution_count": 28,
   "metadata": {},
   "outputs": [],
   "source": [
    "def detect_img():\n",
    "  !yolo task=detect mode=predict model=best.pt conf=0.6 source=test_images/IMG_1607.JPG save=True save_txt=True line_width=2\n",
    "\n",
    "# detect_img()"
   ]
  },
  {
   "cell_type": "code",
   "execution_count": 29,
   "metadata": {},
   "outputs": [],
   "source": [
    "def read_file(counter):\n",
    "  results = []\n",
    "  ans = []\n",
    "  names = ['Allergis', 'Blackmores', 'Grafadex', 'Heamovit', 'NatC', 'Rhinalax']\n",
    "\n",
    "  with open(f'runs/detect/predict{counter}/labels/IMG_1607.txt') as f:\n",
    "      lines = f.readlines()\n",
    "      for i in lines:\n",
    "        results.append(i[0])\n",
    "  # print(results)\n",
    "\n",
    "  for i in range(6):\n",
    "    count = results.count(str(i))\n",
    "    if count <= 1:\n",
    "      ans.append('You have '+ names[i] + ' remain(s) ' + str(count) + '\\n')\n",
    "\n",
    "  message = 'Hello Boom' + '\\n' + ''.join(ans) #Set your message here!\n",
    "\n",
    "  # print(ans)\n",
    "  return message"
   ]
  },
  {
   "cell_type": "code",
   "execution_count": 30,
   "metadata": {},
   "outputs": [],
   "source": [
    "import requests\n",
    "\n",
    "def linenotify(message):\n",
    "  url = 'https://notify-api.line.me/api/notify'\n",
    "  token = 'Y3Vtrey3Swmmuu8Ii8DkUCRPiGreLrOODDDzyVZlnWN' # Line Notify Token\n",
    "  # img = {'imageFile': open('/content/drive/MyDrive/EBP_9.21.jpg','rb')} #Local picture File\n",
    "  data = {'message': message}\n",
    "  headers = {'Authorization':'Bearer ' + token}\n",
    "  session = requests.Session()\n",
    "  session_post = session.post(url, headers=headers, data =data) #files=img\n",
    "  print(session_post.text)\n"
   ]
  },
  {
   "cell_type": "code",
   "execution_count": 31,
   "metadata": {},
   "outputs": [
    {
     "name": "stdout",
     "output_type": "stream",
     "text": [
      "1264.18s - pydevd: Sending message related to process being replaced timed-out after 5 seconds\n",
      "Ultralytics YOLOv8.0.193 🚀 Python-3.11.1 torch-2.0.0 CPU (Apple M1)\n",
      "Model summary (fused): 268 layers, 43611234 parameters, 0 gradients, 164.8 GFLOPs\n",
      "\n",
      "image 1/1 /Users/boomctr/Documents/Visual code/Senier Project/test_images/IMG_1607.JPG: 480x640 6 Heamovits, 2 NatCs, 6 Rhinalaxs, 684.3ms\n",
      "Speed: 5.4ms preprocess, 684.3ms inference, 1.7ms postprocess per image at shape (1, 3, 480, 640)\n",
      "Results saved to \u001b[1mruns/detect/predict2\u001b[0m\n",
      "1 label saved to runs/detect/predict2/labels\n",
      "💡 Learn more at https://docs.ultralytics.com/modes/predict\n",
      "{\"status\":200,\"message\":\"ok\"}\n",
      "2\n"
     ]
    },
    {
     "ename": "KeyboardInterrupt",
     "evalue": "",
     "output_type": "error",
     "traceback": [
      "\u001b[0;31m---------------------------------------------------------------------------\u001b[0m",
      "\u001b[0;31mKeyboardInterrupt\u001b[0m                         Traceback (most recent call last)",
      "\u001b[1;32m/Users/boomctr/Documents/Visual code/Senier Project/Senier Project.ipynb Cell 16\u001b[0m line \u001b[0;36m8\n\u001b[1;32m      <a href='vscode-notebook-cell:/Users/boomctr/Documents/Visual%20code/Senier%20Project/Senier%20Project.ipynb#X16sZmlsZQ%3D%3D?line=5'>6</a>\u001b[0m tz_BK \u001b[39m=\u001b[39m pytz\u001b[39m.\u001b[39mtimezone(\u001b[39m'\u001b[39m\u001b[39mAsia/Bangkok\u001b[39m\u001b[39m'\u001b[39m)\n\u001b[1;32m      <a href='vscode-notebook-cell:/Users/boomctr/Documents/Visual%20code/Senier%20Project/Senier%20Project.ipynb#X16sZmlsZQ%3D%3D?line=6'>7</a>\u001b[0m \u001b[39mwhile\u001b[39;00m \u001b[39mTrue\u001b[39;00m:\n\u001b[0;32m----> <a href='vscode-notebook-cell:/Users/boomctr/Documents/Visual%20code/Senier%20Project/Senier%20Project.ipynb#X16sZmlsZQ%3D%3D?line=7'>8</a>\u001b[0m   datetime_BK \u001b[39m=\u001b[39m datetime\u001b[39m.\u001b[39;49mnow(tz_BK)\n\u001b[1;32m      <a href='vscode-notebook-cell:/Users/boomctr/Documents/Visual%20code/Senier%20Project/Senier%20Project.ipynb#X16sZmlsZQ%3D%3D?line=8'>9</a>\u001b[0m   \u001b[39mif\u001b[39;00m datetime_BK\u001b[39m.\u001b[39mstrftime(\u001b[39m\"\u001b[39m\u001b[39m%\u001b[39m\u001b[39mT.\u001b[39m\u001b[39m%f\u001b[39;00m\u001b[39m\"\u001b[39m)[:\u001b[39m-\u001b[39m\u001b[39m3\u001b[39m] \u001b[39m==\u001b[39m \u001b[39m\"\u001b[39m\u001b[39m13:47:00.000\u001b[39m\u001b[39m\"\u001b[39m:\n\u001b[1;32m     <a href='vscode-notebook-cell:/Users/boomctr/Documents/Visual%20code/Senier%20Project/Senier%20Project.ipynb#X16sZmlsZQ%3D%3D?line=9'>10</a>\u001b[0m     detect_img()\n",
      "File \u001b[0;32m/Library/Frameworks/Python.framework/Versions/3.11/lib/python3.11/site-packages/pytz/tzinfo.py:201\u001b[0m, in \u001b[0;36mDstTzInfo.fromutc\u001b[0;34m(self, dt)\u001b[0m\n\u001b[1;32m    199\u001b[0m idx \u001b[39m=\u001b[39m \u001b[39mmax\u001b[39m(\u001b[39m0\u001b[39m, bisect_right(\u001b[39mself\u001b[39m\u001b[39m.\u001b[39m_utc_transition_times, dt) \u001b[39m-\u001b[39m \u001b[39m1\u001b[39m)\n\u001b[1;32m    200\u001b[0m inf \u001b[39m=\u001b[39m \u001b[39mself\u001b[39m\u001b[39m.\u001b[39m_transition_info[idx]\n\u001b[0;32m--> 201\u001b[0m \u001b[39mreturn\u001b[39;00m (dt \u001b[39m+\u001b[39;49m inf[\u001b[39m0\u001b[39;49m])\u001b[39m.\u001b[39;49mreplace(tzinfo\u001b[39m=\u001b[39;49m\u001b[39mself\u001b[39;49m\u001b[39m.\u001b[39;49m_tzinfos[inf])\n",
      "\u001b[0;31mKeyboardInterrupt\u001b[0m: "
     ]
    }
   ],
   "source": [
    "from datetime import datetime\n",
    "import pytz\n",
    "\n",
    "counter = ''\n",
    "\n",
    "tz_BK = pytz.timezone('Asia/Bangkok')\n",
    "while True:\n",
    "  datetime_BK = datetime.now(tz_BK)\n",
    "  if datetime_BK.strftime(\"%T.%f\")[:-3] == \"13:47:00.000\":\n",
    "    detect_img()\n",
    "    message = datetime_BK.strftime(\"%F %T.%f\")[:-3] + \"\\n\"\n",
    "    message = message + read_file(counter)\n",
    "    linenotify(message)\n",
    "    if counter == '':\n",
    "      counter = 2\n",
    "    else:\n",
    "      counter += 1\n",
    "    print(counter)\n",
    "\n"
   ]
  }
 ],
 "metadata": {
  "kernelspec": {
   "display_name": "Python 3",
   "language": "python",
   "name": "python3"
  },
  "language_info": {
   "codemirror_mode": {
    "name": "ipython",
    "version": 3
   },
   "file_extension": ".py",
   "mimetype": "text/x-python",
   "name": "python",
   "nbconvert_exporter": "python",
   "pygments_lexer": "ipython3",
   "version": "3.11.1"
  },
  "orig_nbformat": 4
 },
 "nbformat": 4,
 "nbformat_minor": 2
}
